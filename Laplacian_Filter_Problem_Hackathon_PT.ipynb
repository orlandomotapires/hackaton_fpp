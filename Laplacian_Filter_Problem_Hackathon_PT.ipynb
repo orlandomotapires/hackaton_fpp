{
 "cells": [
  {
   "cell_type": "markdown",
   "metadata": {
    "id": "S3K0_d-W88g3"
   },
   "source": [
    "<div align=\"center\"><h1>HPC / SENAI / Hackathon (2023.2)<br>\n",
    "Laplacian Filter </h1></div>"
   ]
  },
  {
   "cell_type": "markdown",
   "metadata": {},
   "source": [
    "# Team\n",
    "- Antônio Horácio Magalhães\n",
    "- Leonardo Rodrigues\n",
    "- Orlando Mota"
   ]
  },
  {
   "cell_type": "markdown",
   "metadata": {
    "id": "LsXVY4l-G_dZ",
    "tags": []
   },
   "source": [
    "### Laplaciano Sequencial 2D (Mensuração de tempo + Entradas de Cargas Variadas)"
   ]
  },
  {
   "cell_type": "code",
   "execution_count": 1,
   "metadata": {
    "id": "BDHJwp9i88hS"
   },
   "outputs": [
    {
     "name": "stdout",
     "output_type": "stream",
     "text": [
      "Writing laplacian-2d-sequential.c\n"
     ]
    }
   ],
   "source": [
    "%%writefile laplacian-2d-sequential.c\n",
    "#include <stdio.h>\n",
    "#include <stdlib.h>\n",
    "#include <string.h>\n",
    "#include <math.h>\n",
    "#include <omp.h>\n",
    "\n",
    "void populationMatrix2D(double *a, int rows, int jsta, int jend) {\n",
    "\n",
    "   for (int i = 0; i < rows; i++)\n",
    "     for (int j = jsta - 1; j < jend; j++)\n",
    "            a[i + j * rows] = (i + j + 2) * 1.;  /*stored dates in column (major column)*/\n",
    "\n",
    "}\n",
    "\n",
    "void showMatrix(double *a, int n) {\n",
    "\n",
    "   for (int i = 0; i < n; i++) {\n",
    "      for (int j = 0; j < n; j++) {\n",
    "        printf(\"%1.2f\\t\", a[i + j * n]);\n",
    "      }\n",
    "    printf(\"\\n\");\n",
    "   }\n",
    "   printf(\"\\n\");\n",
    "}\n",
    "\n",
    "void showVector(int *a, int n) {\n",
    "\n",
    "   for (int i = 0; i < n; i++)\n",
    "     printf(\"%d\\t\", a[i]);\n",
    "\n",
    "   printf(\"\\n\\n\");\n",
    "\n",
    "}\n",
    "\n",
    "void kernel(double *a, double *c,  int m, int n, int jsta2, int jend2, int dx, int dz) {\n",
    "\n",
    "  double sx, sz;\n",
    "\n",
    "  for (int j = jsta2 - 1; j < jend2; j++){\n",
    "     for (int i = 1; i < (m - 1); i++){\n",
    "            sx = a[(i - 1) + j * n]  + a[(i + 1) + j * n]  + 2 * a[i + j * n];\n",
    "            sz = a[i + (j - 1) * n]  + a[i + (j + 1) * n]  + 2 * a[i + j * n];\n",
    "            c[i + j * n] = (sx/(dx*dx)) + (sz/(dz*dz));\n",
    "     }\n",
    "  }\n",
    "\n",
    "}\n",
    "\n",
    "void PARA_RANGE(int n1,int n2, int nprocs, int myid, int jsta, int jend, int *vector_return){\n",
    "\n",
    "   int iwork1 = (n2 - n1 + 1) / nprocs;\n",
    "   int iwork2 = (n2 - n1 + 1) % nprocs;\n",
    "\n",
    "   jsta   = (myid * iwork1) + n1 + fmin((double)myid, (double)iwork2);\n",
    "   jend   = jsta + iwork1 - 1;\n",
    "\n",
    "   if (iwork2 > myid)\n",
    "    jend = jend + 1;\n",
    "\n",
    "   vector_return[0] = jsta;\n",
    "   vector_return[1] = jend;\n",
    "\n",
    "}\n",
    "\n",
    "int main (int argc, char *argv[]) {\n",
    "\n",
    "   int rows    = atoi(argv[1]);\n",
    "   int columns = rows;\n",
    "   int myid = 0;\n",
    "   int nprocs = 1;\n",
    "   double dx = 1, dz = 1;\n",
    "   int jsta = 1, jend = 1, jsta2, jend2;\n",
    "   int *vector_return = (int *) calloc (2, sizeof(int));\n",
    "   double t1, t2;\n",
    "\n",
    "   double *a  =  (double*) calloc (rows * columns, sizeof(double));\n",
    "   double *c  =  (double*) calloc (rows * columns, sizeof(double));\n",
    "\n",
    "   PARA_RANGE(1, rows, nprocs, myid, jsta, jend, vector_return);\n",
    "\n",
    "   jsta = vector_return[0];\n",
    "   jend = vector_return[1];\n",
    "\n",
    "   jsta2 = jsta;\n",
    "   jend2 = jend;\n",
    "\n",
    "   jsta2 = 2;\n",
    "   jend2 = columns - 1;\n",
    "\n",
    "   t1 = omp_get_wtime();\n",
    "     populationMatrix2D(a, rows, jsta, jend);\n",
    "     kernel(a, c, rows, columns, jsta2, jend2, dx, dz);\n",
    "   t2 = omp_get_wtime();\n",
    "\n",
    "   printf(\"%d x %d \\t%1.3f\\n\",rows, columns, t2-t1);\n",
    "\n",
    "   free(a);\n",
    "   free(c);\n",
    "\n",
    "   return 0;\n",
    "}"
   ]
  },
  {
   "cell_type": "code",
   "execution_count": 2,
   "metadata": {
    "id": "PAFA79Pq88hT"
   },
   "outputs": [],
   "source": [
    "!gcc laplacian-2d-sequential.c -o laplacian-2d-sequential -fopenmp -lm -O3"
   ]
  },
  {
   "cell_type": "code",
   "execution_count": 3,
   "metadata": {},
   "outputs": [
    {
     "name": "stdout",
     "output_type": "stream",
     "text": [
      "18432 x 18432 \t6.728\n"
     ]
    }
   ],
   "source": [
    "!./laplacian-2d-sequential 18432"
   ]
  },
  {
   "cell_type": "code",
   "execution_count": 4,
   "metadata": {
    "id": "3--BWJfZ88hS"
   },
   "outputs": [
    {
     "name": "stdout",
     "output_type": "stream",
     "text": [
      "Writing script-2d.sh\n"
     ]
    }
   ],
   "source": [
    "%%writefile script-2d.sh\n",
    "for i in 1024 4096 6144 8192 10240 14336 18432 22528 27648 46340\n",
    "do\n",
    "./$1 $i\n",
    "done"
   ]
  },
  {
   "cell_type": "code",
   "execution_count": 5,
   "metadata": {
    "colab": {
     "base_uri": "https://localhost:8080/"
    },
    "id": "Ng2xrQWD88hT",
    "outputId": "a0417ec0-c95e-48e3-cdcb-97f7c5807cf1"
   },
   "outputs": [
    {
     "name": "stdout",
     "output_type": "stream",
     "text": [
      "1024 x 1024 \t0.010\n",
      "4096 x 4096 \t0.246\n",
      "6144 x 6144 \t0.596\n",
      "8192 x 8192 \t1.246\n",
      "10240 x 10240 \t1.619\n",
      "14336 x 14336 \t3.315\n",
      "18432 x 18432 \t6.742\n",
      "22528 x 22528 \t8.275\n",
      "27648 x 27648 \t14.876\n",
      "46340 x 46340 \t23.952\n"
     ]
    }
   ],
   "source": [
    "!bash script-2d.sh laplacian-2d-sequential"
   ]
  },
  {
   "cell_type": "markdown",
   "metadata": {
    "id": "0T5E-sIl88hX"
   },
   "source": [
    "---\n",
    "## Aplicações Paralelas"
   ]
  },
  {
   "cell_type": "markdown",
   "metadata": {
    "id": "KA9AXohTmbDv",
    "tags": []
   },
   "source": [
    "### 1 GPU (CUDA) - PRINCIPAL"
   ]
  },
  {
   "cell_type": "code",
   "execution_count": 6,
   "metadata": {
    "id": "NMAoAsPamdmY"
   },
   "outputs": [
    {
     "name": "stdout",
     "output_type": "stream",
     "text": [
      "Writing laplacian-2d-gridstrideloop.cu\n"
     ]
    }
   ],
   "source": [
    "%%writefile laplacian-2d-gridstrideloop.cu\n",
    "#include <stdio.h>\n",
    "#include <stdlib.h>\n",
    "#include <string.h>\n",
    "#include <math.h>\n",
    "#include <omp.h>\n",
    "#include <cuda.h>\n",
    "\n",
    "__global__\n",
    "void populationMatrix2D(float *a, int rows, int jsta, int jend) {\n",
    "    int i, j;\n",
    "    int idxI = blockIdx.x * blockDim.x + threadIdx.x;\n",
    "    int idxJ = blockIdx.y * blockDim.y + threadIdx.y;\n",
    "    int strideI = gridDim.x * blockDim.x;\n",
    "    int strideJ = gridDim.y * blockDim.y;\n",
    "\n",
    "    \n",
    "    for (i = idxI; i < rows && (i >= 0 && i < rows); i += strideI) \n",
    "        for (j = idxJ; j < jend && (j >= (jsta - 1) && j < jend); j += strideJ) \n",
    "            a[i + j * rows] = (i + j + 2) * 1.0;\n",
    "}\n",
    "\n",
    "__global__\n",
    "void kernel(float *a, float *c, int m, int n, int jsta2, int jend2, int dx, int dz) {\n",
    "    int tid_x = blockIdx.x * blockDim.x + threadIdx.x;\n",
    "    int tid_y = blockIdx.y * blockDim.y + threadIdx.y;\n",
    "\n",
    "    int stride_x = blockDim.x * gridDim.x;\n",
    "    int stride_y = blockDim.y * gridDim.y;\n",
    "     \n",
    "    for (int i = 1 + tid_x; i < (m - 1); i += stride_x) \n",
    "        for (int j = jsta2 - 1 + tid_y; j < jend2; j += stride_y){\n",
    "            double sx = a[(i - 1) + j * n] + a[(i + 1) + j * n] + 2 * a[i + j * n];\n",
    "            double sz = a[i + (j - 1) * n] + a[i + (j + 1) * n] + 2 * a[i + j * n];\n",
    "            c[i + j * n] = (sx / (dx * dx)) + (sz / (dz * dz));\n",
    "        }\n",
    "}\n",
    "\n",
    "void showMatrix_all(float *a, int n) {\n",
    "\n",
    "   for (int i = 0; i < n; i++) {\n",
    "      for (int j = 0; j < n; j++) {\n",
    "        printf(\"%1.2f\\t\", a[i + j * n]);\n",
    "      }\n",
    "    printf(\"\\n\");\n",
    "   }\n",
    "   printf(\"\\n\");\n",
    "}\n",
    "\n",
    "void showMatrix(float *a, int n) {\n",
    "    for (int i = 0; i < n; i++) {\n",
    "        for (int j = 0; j < n; j++) {\n",
    "            if (i == n - 2 && j == n - 2)\n",
    "                printf(\"%lf\\n\", a[i + j * n]);\n",
    "        }\n",
    "    }\n",
    "}\n",
    "\n",
    "void showVector(int *a, int n) {\n",
    "    for (int i = 0; i < n; i++)\n",
    "        printf(\"%d\\t\", a[i]);\n",
    "\n",
    "    printf(\"\\n\\n\");\n",
    "}\n",
    "\n",
    "void PARA_RANGE(int n1, int n2, int nprocs, int myid, int jsta, int jend, int *vector_return) {\n",
    "    int iwork1 = (n2 - n1 + 1) / nprocs;\n",
    "    int iwork2 = (n2 - n1 + 1) % nprocs;\n",
    "\n",
    "    jsta = (myid * iwork1) + n1 + fmin((double)myid, (double)iwork2);\n",
    "    jend = jsta + iwork1 - 1;\n",
    "\n",
    "    if (iwork2 > myid)\n",
    "        jend = jend + 1;\n",
    "\n",
    "    vector_return[0] = jsta;\n",
    "    vector_return[1] = jend;\n",
    "}\n",
    "\n",
    "int main(int argc, char *argv[]) {\n",
    "    unsigned int rows = atoi(argv[1]);\n",
    "    unsigned int columns = rows;\n",
    "    int myid = 0;\n",
    "    int nprocs = 1;\n",
    "    float dx = 1, dz = 1;\n",
    "    int jsta = 1, jend = 1, jsta2, jend2;\n",
    "    int *vector_return;\n",
    "    double t1, t2;\n",
    "\n",
    "    float *a;\n",
    "    float *c;\n",
    "    \n",
    "    t1 = omp_get_wtime();\n",
    "    \n",
    "    cudaMallocManaged(&vector_return, 2 * sizeof(int));\n",
    "    cudaMallocManaged(&a, rows * columns * sizeof(float));\n",
    "    cudaMallocManaged(&c, rows * columns * sizeof(float));\n",
    "\n",
    "    cudaMemset(a, 0, rows * columns * sizeof(float));\n",
    "    cudaMemset(c, 0, rows * columns * sizeof(float));\n",
    "\n",
    "    PARA_RANGE(1, rows, nprocs, myid, jsta, jend, vector_return);\n",
    "\n",
    "    jsta = vector_return[0];\n",
    "    jend = vector_return[1];\n",
    "\n",
    "    jsta2 = 2;\n",
    "    jend2 = columns - 1;\n",
    "    \n",
    "    dim3 dimBlock(1024, 1, 1);\n",
    "    dim3 dimGrid((rows + dimBlock.x - 1) / dimBlock.x, (columns + dimBlock.y - 1) / dimBlock.y, 1);\n",
    "\n",
    "    populationMatrix2D<<<dimGrid, dimBlock, 0>>>(a, rows, jsta, jend);\n",
    "    kernel<<<dimGrid, dimBlock, 0>>>(a, c, rows, columns, jsta2, jend2, dx, dz);\n",
    "\n",
    "    cudaDeviceSynchronize();\n",
    "\n",
    "    t2 = omp_get_wtime();\n",
    "\n",
    "    printf(\"%d x %d \\t%.10lf\\n\", rows, columns, t2 - t1);\n",
    "\n",
    "    showMatrix(c, rows);\n",
    "\n",
    "    // Libera os recursos\n",
    "    cudaFree(vector_return);\n",
    "    cudaFree(a);\n",
    "    cudaFree(c);\n",
    "\n",
    "    return 0;\n",
    "}\n"
   ]
  },
  {
   "cell_type": "code",
   "execution_count": 7,
   "metadata": {
    "id": "TW1kx1Kgmn2N"
   },
   "outputs": [],
   "source": [
    "!nvcc laplacian-2d-gridstrideloop.cu -o laplacian-2d-gridstrideloop -Xcompiler -fopenmp -O3"
   ]
  },
  {
   "cell_type": "code",
   "execution_count": 27,
   "metadata": {
    "id": "pgnQa8XomocF"
   },
   "outputs": [
    {
     "name": "stdout",
     "output_type": "stream",
     "text": [
      "46340 x 46340 \t1.6021680739\n",
      "741424.000000\n"
     ]
    }
   ],
   "source": [
    "!./laplacian-2d-gridstrideloop 46340"
   ]
  },
  {
   "cell_type": "code",
   "execution_count": 9,
   "metadata": {
    "id": "5EqejK-Vm7Tl"
   },
   "outputs": [
    {
     "name": "stdout",
     "output_type": "stream",
     "text": [
      "Writing script-2d-cuda.sh\n"
     ]
    }
   ],
   "source": [
    "%%writefile script-2d-cuda.sh\n",
    "for i in 1024 4096 6144 8192 10240 14336 18432 22528 27648 46340\n",
    "do\n",
    "./$1 $i\n",
    "done"
   ]
  },
  {
   "cell_type": "code",
   "execution_count": 10,
   "metadata": {
    "id": "GPoP7m-km82N"
   },
   "outputs": [
    {
     "name": "stdout",
     "output_type": "stream",
     "text": [
      "1024 x 1024 \t0.1920272168\n",
      "16368.000000\n",
      "4096 x 4096 \t0.1983228233\n",
      "65520.000000\n",
      "6144 x 6144 \t0.2108811345\n",
      "98288.000000\n",
      "8192 x 8192 \t0.2315570489\n",
      "131056.000000\n",
      "10240 x 10240 \t0.2626442984\n",
      "163824.000000\n",
      "14336 x 14336 \t0.3371844161\n",
      "229360.000000\n",
      "18432 x 18432 \t0.4348978531\n",
      "294896.000000\n",
      "22528 x 22528 \t0.5547419731\n",
      "360432.000000\n",
      "27648 x 27648 \t0.7820298597\n",
      "442352.000000\n",
      "46340 x 46340 \t1.5969280228\n",
      "741424.000000\n"
     ]
    }
   ],
   "source": [
    "!bash script-2d-cuda.sh laplacian-2d-gridstrideloop"
   ]
  },
  {
   "cell_type": "markdown",
   "metadata": {
    "tags": []
   },
   "source": [
    "### 2 GPU (CUDA) - NCCL "
   ]
  },
  {
   "cell_type": "code",
   "execution_count": 11,
   "metadata": {},
   "outputs": [
    {
     "name": "stdout",
     "output_type": "stream",
     "text": [
      "Writing laplacian-2d-nccl.cu\n"
     ]
    }
   ],
   "source": [
    "%%writefile laplacian-2d-nccl.cu\n",
    "#include <stdio.h>\n",
    "#include <stdlib.h>\n",
    "#include <string.h>\n",
    "#include <math.h>\n",
    "#include <omp.h>\n",
    "#include <cuda.h>\n",
    "\n",
    "#include <nccl.h>\n",
    "#include <cstdio>\n",
    "#include <cstdlib>\n",
    "\n",
    "void populationMatrix2D(float *a, int rows, int jsta, int jend) {\n",
    "\n",
    "   for (int i = 0; i < rows; i++)\n",
    "     for (int j = jsta - 1; j < jend; j++)\n",
    "            a[i + j * rows] = (i + j + 2) * 1.;  /*stored dates in column (major column)*/\n",
    "\n",
    "}\n",
    "\n",
    "\n",
    "__global__\n",
    "void kernel(float *a, float *c, int m, int n, int jsta2, int jend2, int dx, int dz) {\n",
    "    int tid_x = blockIdx.x * blockDim.x + threadIdx.x;\n",
    "    int tid_y = blockIdx.y * blockDim.y + threadIdx.y;\n",
    "\n",
    "    int stride_x = blockDim.x * gridDim.x;\n",
    "    int stride_y = blockDim.y * gridDim.y;\n",
    "     \n",
    "    for (int i = 1 + tid_x; i < (m - 1); i += stride_x) \n",
    "        for (int j = jsta2 - 1 + tid_y; j < jend2; j += stride_y){\n",
    "            double sx = a[(i - 1) + j * n] + a[(i + 1) + j * n] + 2 * a[i + j * n];\n",
    "            double sz = a[i + (j - 1) * n] + a[i + (j + 1) * n] + 2 * a[i + j * n];\n",
    "            c[i + j * n] = (sx / (dx * dx)) + (sz / (dz * dz));\n",
    "            \n",
    "            if (i == n - 2 && j == n - 2){\n",
    "                printf(\"%lf\\n\", c[i + j * n]);\n",
    "            }\n",
    "        }\n",
    "}\n",
    "\n",
    "void showMatrix_all(float *a, int n) {\n",
    "\n",
    "   for (int i = 0; i < n; i++) {\n",
    "      for (int j = 0; j < n; j++) {\n",
    "        printf(\"%1.2f\\t\", a[i + j * n]);\n",
    "      }\n",
    "    printf(\"\\n\");\n",
    "   }\n",
    "   printf(\"\\n\");\n",
    "}\n",
    "\n",
    "void showMatrix(float *a, int n) {\n",
    "    for (int i = 0; i < n; i++) {\n",
    "        for (int j = 0; j < n; j++) {\n",
    "            if (i == n - 2 && j == n - 2)\n",
    "                printf(\"%lf\\n\", a[i + j * n]);\n",
    "        }\n",
    "    }\n",
    "}\n",
    "\n",
    "void showVector(int *a, int n) {\n",
    "    for (int i = 0; i < n; i++)\n",
    "        printf(\"%d\\t\", a[i]);\n",
    "\n",
    "    printf(\"\\n\\n\");\n",
    "}\n",
    "\n",
    "void PARA_RANGE(int n1, int n2, int nprocs, int myid, int jsta, int jend, int *vector_return) {\n",
    "    int iwork1 = (n2 - n1 + 1) / nprocs;\n",
    "    int iwork2 = (n2 - n1 + 1) % nprocs;\n",
    "\n",
    "    jsta = (myid * iwork1) + n1 + fmin((double)myid, (double)iwork2);\n",
    "    jend = jsta + iwork1 - 1;\n",
    "\n",
    "    if (iwork2 > myid)\n",
    "        jend = jend + 1;\n",
    "\n",
    "    vector_return[0] = jsta;\n",
    "    vector_return[1] = jend;\n",
    "}\n",
    "\n",
    "int main(int argc, char *argv[]) {\n",
    "    unsigned int rows = atoi(argv[1]);\n",
    "    unsigned int columns = rows;\n",
    "    int myid = 0;\n",
    "    int nprocs = 1;\n",
    "    float dx = 1, dz = 1;\n",
    "    int jsta = 1, jend = 1, jsta2, jend2;\n",
    "    int *vector_return = (int *) calloc (2, sizeof(int));\n",
    "  \n",
    "    PARA_RANGE(1, rows, nprocs, myid, jsta, jend, vector_return);\n",
    "\n",
    "    jsta = vector_return[0];\n",
    "    jend = vector_return[1];\n",
    "\n",
    "    jsta2 = 2;\n",
    "    jend2 = columns - 1;\n",
    "\n",
    "    dim3 dimBlock(1024, 1, 1);\n",
    "    dim3 dimGrid((rows + dimBlock.x - 1) / dimBlock.x, (columns + dimBlock.y - 1) / dimBlock.y, 1);\n",
    "\n",
    "    // =-=-=-=-=-=-=-=-=-=-=-=-=-=-=-=-=-=-=-=-=-=-=-=-= NCCL part =-=-=-=-=-=-=-=-=-=-=-=-=-=-=-=-=-=-=-=-=-=-=-=-=\n",
    "\n",
    "    int data_size = rows * rows;\n",
    "    int nGPUs = 0;\n",
    "    cudaGetDeviceCount(&nGPUs);\n",
    "\n",
    "    int *DeviceList = (int *)malloc(nGPUs * sizeof(int));\n",
    "    \n",
    "    float **d_data_a,*data;\n",
    "    float **d_data_c;\n",
    "    d_data_a = (float**) malloc (nGPUs * sizeof(float*));\n",
    "    d_data_c = (float**) malloc (nGPUs * sizeof(float*));\n",
    "    data = (float*)malloc(rows * rows * sizeof(float));\n",
    "\n",
    "    for (int i = 0; i < nGPUs; i++)\n",
    "        DeviceList[i] = i;\n",
    "\n",
    "    /* Initializing NCCL with Multiples Devices per Thread */\n",
    "    ncclComm_t *comms = (ncclComm_t *)malloc(sizeof(ncclComm_t) * nGPUs);\n",
    "    cudaStream_t *s = (cudaStream_t *)malloc(sizeof(cudaStream_t) * nGPUs);\n",
    "    ncclCommInitAll(comms, nGPUs, DeviceList);\n",
    "\n",
    "    populationMatrix2D(data,rows, jsta,jend);\n",
    "\n",
    "    for (int g = 0; g < nGPUs; g++) {\n",
    "        cudaSetDevice(DeviceList[g]);\n",
    "        cudaStreamCreate(&s[g]);\n",
    "        cudaMalloc(&d_data_a[g], rows * columns * sizeof(float));\n",
    "        cudaMalloc(&d_data_c[g], rows * columns * sizeof(float));\n",
    "\n",
    "        if(g == 0)\n",
    "           cudaMemcpy(d_data_a[g], data, rows * rows * sizeof(float), cudaMemcpyHostToDevice);\n",
    "    }\n",
    "\n",
    "    ncclGroupStart();\n",
    "\n",
    "    for (int g = 0; g < nGPUs; g++) {\n",
    "        cudaSetDevice(DeviceList[g]);\n",
    "        ncclBcast(d_data_a[g], rows * columns, ncclFloat, 0, comms[g], s[g]); /*Broadcasting it to all*/\n",
    "        ncclBcast(d_data_c[g], rows * columns, ncclFloat, 0, comms[g], s[g]);\n",
    "    }\n",
    "\n",
    "    ncclGroupEnd();\n",
    "\n",
    "    for (int g = 0; g < nGPUs; g++) {\n",
    "        cudaSetDevice(DeviceList[g]);\n",
    "        printf(\"\\nThis is device %d\\n\", g);\n",
    "        kernel<<<dimGrid, dimBlock>>>(d_data_a[g], d_data_c[g], rows, columns, jsta2, jend2, dx, dz);\n",
    "        cudaDeviceSynchronize();\n",
    "        \n",
    "    }\n",
    "    \n",
    "    showMatrix(d_data_c[0],rows);\n",
    "    \n",
    "     printf(\"\\n\"); \n",
    "\n",
    "    for (int g = 0; g < nGPUs; g++) { /*Synchronizing CUDA Streams*/\n",
    "        cudaSetDevice(DeviceList[g]);\n",
    "        cudaStreamSynchronize(s[g]);\n",
    "    }\n",
    "\n",
    "    for (int g = 0; g < nGPUs; g++) { /*Destroy CUDA Streams*/\n",
    "        cudaSetDevice(DeviceList[g]);\n",
    "        cudaStreamDestroy(s[g]);\n",
    "    }\n",
    "\n",
    "    for (int g = 0; g < nGPUs; g++) /*Finalizing NCCL*/\n",
    "        ncclCommDestroy(comms[g]);\n",
    "\n",
    "\n",
    "    /*Freeing memory*/\n",
    "    free(s);\n",
    "    free(DeviceList);\n",
    "    free(data);\n",
    "    cudaFree(d_data_a);\n",
    "    cudaFree(d_data_c);\n",
    "    \n",
    "\n",
    "    return 0;\n",
    "}"
   ]
  },
  {
   "cell_type": "code",
   "execution_count": 12,
   "metadata": {},
   "outputs": [
    {
     "name": "stdout",
     "output_type": "stream",
     "text": [
      "\u001b[01m\u001b[0m\u001b[01mlaplacian-2d-nccl.cu(104)\u001b[0m: \u001b[01;35mwarning\u001b[0m #177-D: variable \u001b[01m\"data_size\"\u001b[0m was declared but never referenced\n",
      "\n",
      "\u001b[01;36m\u001b[0m\u001b[01;36mRemark\u001b[0m: The warnings can be suppressed with \"-diag-suppress <warning-number>\"\n",
      "\n"
     ]
    }
   ],
   "source": [
    "!nvcc laplacian-2d-nccl.cu -o laplacian-2d-nccl -lnccl"
   ]
  },
  {
   "cell_type": "code",
   "execution_count": 13,
   "metadata": {},
   "outputs": [],
   "source": [
    "!./laplacian-2d-nccl 80340"
   ]
  },
  {
   "cell_type": "code",
   "execution_count": 14,
   "metadata": {},
   "outputs": [
    {
     "name": "stdout",
     "output_type": "stream",
     "text": [
      "Writing script-2d-nccl.sh\n"
     ]
    }
   ],
   "source": [
    "%%writefile script-2d-nccl.sh\n",
    "for i in 1024 4096 6144 8192 10240 14336 18432 22528 27648 46340\n",
    "do\n",
    "./$1 $i\n",
    "done"
   ]
  },
  {
   "cell_type": "code",
   "execution_count": 15,
   "metadata": {},
   "outputs": [
    {
     "name": "stdout",
     "output_type": "stream",
     "text": [
      "\n",
      "This is device 0\n",
      "16368.000000\n",
      "\n",
      "This is device 1\n",
      "16368.000000\n",
      "\n",
      "This is device 2\n",
      "16368.000000\n",
      "\n",
      "This is device 3\n",
      "16368.000000\n",
      "script-2d-nccl.sh: line 1: 61973 Segmentation fault      (core dumped) ./$1 $i\n",
      "\n",
      "This is device 0\n",
      "65520.000000\n",
      "\n",
      "This is device 1\n",
      "65520.000000\n",
      "\n",
      "This is device 2\n",
      "65520.000000\n",
      "\n",
      "This is device 3\n",
      "65520.000000\n",
      "script-2d-nccl.sh: line 1: 62551 Segmentation fault      (core dumped) ./$1 $i\n",
      "\n",
      "This is device 0\n",
      "98288.000000\n",
      "\n",
      "This is device 1\n",
      "98288.000000\n",
      "\n",
      "This is device 2\n",
      "98288.000000\n",
      "\n",
      "This is device 3\n",
      "98288.000000\n",
      "script-2d-nccl.sh: line 1: 63125 Segmentation fault      (core dumped) ./$1 $i\n",
      "\n",
      "This is device 0\n",
      "131056.000000\n",
      "\n",
      "This is device 1\n",
      "131056.000000\n",
      "\n",
      "This is device 2\n",
      "131056.000000\n",
      "\n",
      "This is device 3\n",
      "131056.000000\n",
      "^C\n"
     ]
    }
   ],
   "source": [
    "!bash script-2d-nccl.sh laplacian-2d-nccl"
   ]
  },
  {
   "cell_type": "markdown",
   "metadata": {
    "id": "fFJE-KDw88hc"
   },
   "source": [
    "## Análise Experimental"
   ]
  },
  {
   "cell_type": "markdown",
   "metadata": {
    "id": "PYcQxMvx88hc"
   },
   "source": [
    "### I) Validação com Valores Pequenos"
   ]
  },
  {
   "cell_type": "markdown",
   "metadata": {
    "id": "U2YNM5KN88hd"
   },
   "source": [
    "#### Parâmetros Ótimos de Execução"
   ]
  },
  {
   "cell_type": "markdown",
   "metadata": {
    "id": "mDDton_U88hd"
   },
   "source": [
    "1. CUDA = G1D B1DT1D (1024, 1, 1)"
   ]
  },
  {
   "cell_type": "markdown",
   "metadata": {
    "id": "vAwte2KM88hd"
   },
   "source": [
    "### Tempos de execução em segundos das aplicações"
   ]
  },
  {
   "cell_type": "markdown",
   "metadata": {
    "id": "teufibtO88hd"
   },
   "source": [
    "|  Entradas     |CUDA|\n",
    "| --------------|----|\n",
    "| 1024 x 1024   | 0.18   |\n",
    "| 4096 x 4096   | 0.19   |\n",
    "| 6144 x 6144   | 0.20   |  \n",
    "| 8192 x 8192   | 0.23   |\n",
    "| 10240 x 10240 | 0.26   |  \n",
    "| 14336 x 14336 | 0.33\n",
    "| 18432 x 18432 | 0.45   |  \n",
    "| 22528 x 22528 | 0.56\n",
    "| 27648 x 27648 | 0.84   |   "
   ]
  },
  {
   "cell_type": "markdown",
   "metadata": {
    "id": "FScfx1Tu88hd"
   },
   "source": [
    "### Speedups"
   ]
  },
  {
   "cell_type": "markdown",
   "metadata": {
    "id": "sYuVvC0v88hd"
   },
   "source": [
    "|  Entradas     |CUDA|\n",
    "| --------------|----|\n",
    "| 1024 x 1024   |  0,0555  |\n",
    "| 4096 x 4096   |  1,2735  |\n",
    "| 6144 x 6144   |  2,9852  |  \n",
    "| 8192 x 8192   |  5,3913  |\n",
    "| 10240 x 10240 |  6,0384  |  \n",
    "| 18432 x 18432 |  10,000  |  \n",
    "| 22528 x 22528 | 26,358 |\n",
    "| 27648 x 27648 |  17,572 |  "
   ]
  },
  {
   "cell_type": "markdown",
   "metadata": {
    "id": "eFb0K4eI88hd"
   },
   "source": [
    "### II) Análise de Desempenho - `46340`"
   ]
  },
  {
   "cell_type": "markdown",
   "metadata": {
    "id": "4y-xEqXN88hd"
   },
   "source": [
    "#### Parâmetros Ótimos de Execução"
   ]
  },
  {
   "cell_type": "markdown",
   "metadata": {
    "id": "dq7UNt0u88he"
   },
   "source": [
    "1. CUDA = G1D B1DT1D (1024, 1, 1)"
   ]
  },
  {
   "cell_type": "markdown",
   "metadata": {
    "id": "te-pFH3r88he"
   },
   "source": [
    "### Tempo de execução em segundos das aplicações"
   ]
  },
  {
   "cell_type": "markdown",
   "metadata": {
    "id": "GVv-xuvP88he"
   },
   "source": [
    "|  Entradas    | Sequencial | CUDA\n",
    "| -------------| ---------- | ----\n",
    "| 46340 x 46340|   29.324   | 1.49\n"
   ]
  },
  {
   "cell_type": "markdown",
   "metadata": {
    "id": "Hx4c74A-88he"
   },
   "source": [
    "### Speedup"
   ]
  },
  {
   "cell_type": "markdown",
   "metadata": {
    "id": "OM_DnT_g88hf"
   },
   "source": [
    "|  Senha          | CUDA\n",
    "|-----------------| ----\n",
    "| 46340 x 46340   |  19.68X\n"
   ]
  },
  {
   "cell_type": "markdown",
   "metadata": {
    "id": "E6XK6Pk-88hf"
   },
   "source": [
    "## Conclusões"
   ]
  },
  {
   "cell_type": "markdown",
   "metadata": {
    "id": "AAYdvIBC88hf"
   },
   "source": [
    "Among all possible applications to improve code performance, we decided to focus on CUDA, as it is the tool with the best ease of use and availability of speedup among those presented. We were very successful in using CUDA on a single GPU, where we achieved a speedup of approximately 20x. However, when we attempted to further improve performance by adopting a multi-GPU strategy using NCCL, we encountered issues in the execution of the final code. Therefore, we decided to concentrate on working with CUDA on a single GPU to extract the best possible results from it."
   ]
  },
  {
   "cell_type": "markdown",
   "metadata": {
    "id": "ooidy5Bk88hg"
   },
   "source": [
    "## Referências Biliográficas"
   ]
  },
  {
   "cell_type": "markdown",
   "metadata": {
    "id": "7ng0gP5S88hg"
   },
   "source": [
    "* G. Coulouris, J. Dollimore, T. Kindberg, G.Blair. Distributed Systems: Concepts and Design, Fifth Edition, Pearson, 2011.\n",
    "\n",
    "* S.Tanenbaum, M. Steen, Distributed Systems: Principles and Paradigms, Second Edition, Pearson, 2006.\n",
    "\n",
    "* David A. Patterson and John L. Hennessy. Computer Organization and Design: The Hardware/Software Interface. Morgan Kaufmann, 5th Edition, 2013.\n",
    "\n",
    "* An Introduction to Parallel Programming by Peter S. Pacheco. Morgan Kauffman.\n",
    "\n",
    "* W. C. Barbosa, An introduction to distributed algorithms, MIT Press, 1997. N. Lynch, Distributed Algorithms, Mit Press, 1996 e Introduction to Distributed Algorithms, Gerard Tel, Cabribridge U. Press, 1994."
   ]
  }
 ],
 "metadata": {
  "accelerator": "GPU",
  "colab": {
   "collapsed_sections": [
    "76UL-nQhDvNu",
    "tcOq-cHu88hW",
    "KHb7ELq188hX",
    "WQYk6rTG88hY",
    "o-zGyNow88hZ"
   ],
   "gpuType": "V100",
   "provenance": []
  },
  "kernelspec": {
   "display_name": "Python 3 (ipykernel)",
   "language": "python",
   "name": "python3"
  },
  "language_info": {
   "codemirror_mode": {
    "name": "ipython",
    "version": 3
   },
   "file_extension": ".py",
   "mimetype": "text/x-python",
   "name": "python",
   "nbconvert_exporter": "python",
   "pygments_lexer": "ipython3",
   "version": "3.11.4"
  }
 },
 "nbformat": 4,
 "nbformat_minor": 4
}
